{
 "cells": [
  {
   "cell_type": "markdown",
   "id": "8017ca50-f881-4d13-aeb4-e3bd1de69a96",
   "metadata": {},
   "source": [
    "# How connect the EC2 server "
   ]
  },
  {
   "cell_type": "code",
   "execution_count": null,
   "id": "00beb285-d064-474a-ae4b-1d334cb8a398",
   "metadata": {},
   "outputs": [],
   "source": [
    "SSH CLIENT WAY\n",
    "\n",
    "1. Open an SSH client.\n",
    "2. Locate your private key file. The key used to launch this instance is jan-key.pem\n",
    "3. Run this command, if necessary, to ensure your key is not publicly viewable.\n",
    "\n",
    "        chmod 400 \"jan-key.pem\"\n",
    "\n",
    "4. Connect to your instance using its Public DNS:\n",
    "ec2-54-167-63-128.compute-1.amazonaws.com\n",
    "\n",
    "Example:\n",
    "ssh -i \"jan-key.pem\" ubuntu@ec2-54-167-63-128.compute-1.amazonaws.com"
   ]
  },
  {
   "cell_type": "markdown",
   "id": "4dfc86a6-4b9e-425b-8a7a-f0698dcc06cc",
   "metadata": {},
   "source": [
    "# Pre-requisites for deployment "
   ]
  },
  {
   "cell_type": "code",
   "execution_count": null,
   "id": "42952b51-8a34-47a5-be69-3d0f6d9ab626",
   "metadata": {},
   "outputs": [],
   "source": [
    "1. check the Python >> already installed \n",
    "2. check pip >> need to install\n",
    "3. check git  >> already installed "
   ]
  },
  {
   "cell_type": "markdown",
   "id": "f5a03936-5474-401c-aebd-ac6e8e42df3d",
   "metadata": {},
   "source": [
    "# Update & upgrade the System "
   ]
  },
  {
   "cell_type": "code",
   "execution_count": null,
   "id": "a1874289-35fc-48ad-aa7d-e83f777a9e12",
   "metadata": {},
   "outputs": [],
   "source": [
    "update command \n",
    "   >>sudo apt-get update\n",
    "\n",
    "upgrade command \n",
    "    >> sudo apt-get upgrade\n",
    "\n",
    "\n",
    "Install the PIP \n",
    "    command >> sudo apt install python3-pip\n",
    "\n",
    "\n",
    "make sure in flask >> PORT = \"0.0.0.0\", Debug = \"False\""
   ]
  },
  {
   "cell_type": "markdown",
   "id": "2c348272-83df-4ed1-85b0-b35554ecad64",
   "metadata": {},
   "source": [
    "### THIS POINT WE ARE READY TO DEPLOY THE PROJECT "
   ]
  },
  {
   "cell_type": "code",
   "execution_count": null,
   "id": "4e20f1b1-d895-40a8-8908-c5c9f6ec2b4b",
   "metadata": {},
   "outputs": [],
   "source": [
    "DEV/SANDBOX\n",
    "\n",
    "\n",
    "QA/TEST/UAT\n",
    "\n",
    "\n",
    "PROD >>"
   ]
  },
  {
   "cell_type": "code",
   "execution_count": null,
   "id": "5f764522-3be3-47f8-9f4a-297e8c6a0712",
   "metadata": {},
   "outputs": [],
   "source": []
  },
  {
   "cell_type": "markdown",
   "id": "0c3d2a31-c91f-4de7-beb3-219621edcebc",
   "metadata": {},
   "source": [
    "# Deployment "
   ]
  },
  {
   "cell_type": "code",
   "execution_count": null,
   "id": "fdd2134b-cd00-4b0d-8330-30c4891f4389",
   "metadata": {},
   "outputs": [],
   "source": [
    "1. clone the project on server/cloud \n",
    "\n",
    "2. change directory to the project \n",
    "\n",
    "3. Install dependencies using requirements.txt file \n",
    "    pip install -r requirements.txt\n",
    "\n",
    "5. Run the Project \n",
    "    python3 interface.py\n",
    "\n",
    "\n",
    "INCASE OF CONTNIOUS RUNNING \n",
    "\n",
    "    nohup python3 interface.py &\n",
    "\n",
    "\n",
    "if you wnt stop the service \n",
    "\n",
    "    1. find the process id \n",
    "\n",
    "    ps -ef | grep python \n",
    "\n",
    "    2. kill the process \n",
    "    kill PID "
   ]
  }
 ],
 "metadata": {
  "kernelspec": {
   "display_name": "Python 3 (ipykernel)",
   "language": "python",
   "name": "python3"
  },
  "language_info": {
   "codemirror_mode": {
    "name": "ipython",
    "version": 3
   },
   "file_extension": ".py",
   "mimetype": "text/x-python",
   "name": "python",
   "nbconvert_exporter": "python",
   "pygments_lexer": "ipython3",
   "version": "3.10.10"
  }
 },
 "nbformat": 4,
 "nbformat_minor": 5
}
